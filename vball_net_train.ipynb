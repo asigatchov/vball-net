{
  "nbformat": 4,
  "nbformat_minor": 0,
  "metadata": {
    "colab": {
      "provenance": [],
      "authorship_tag": "ABX9TyOECZlWUJJx8wGm4dl5fuA9",
      "include_colab_link": true
    },
    "kernelspec": {
      "name": "python3",
      "display_name": "Python 3"
    },
    "language_info": {
      "name": "python"
    }
  },
  "cells": [
    {
      "cell_type": "markdown",
      "metadata": {
        "id": "view-in-github",
        "colab_type": "text"
      },
      "source": [
        "<a href=\"https://colab.research.google.com/github/asigatchov/vball-net/blob/main/vball_net_train.ipynb\" target=\"_parent\"><img src=\"https://colab.research.google.com/assets/colab-badge.svg\" alt=\"Open In Colab\"/></a>"
      ]
    },
    {
      "cell_type": "markdown",
      "source": [
        "[vball-net repo](https://github.com/asigatchov/vball-net). Clone the repository and load the labeled data for model training.\n"
      ],
      "metadata": {
        "id": "5lGWffxo23Df"
      }
    },
    {
      "cell_type": "code",
      "execution_count": 1,
      "metadata": {
        "colab": {
          "base_uri": "https://localhost:8080/"
        },
        "id": "x0dQ5YKYx67r",
        "outputId": "98a2f781-9ced-4860-c8cf-e2581f517b0a"
      },
      "outputs": [
        {
          "output_type": "stream",
          "name": "stdout",
          "text": [
            "Cloning into 'vball-net'...\n",
            "remote: Enumerating objects: 199, done.\u001b[K\n",
            "remote: Counting objects: 100% (199/199), done.\u001b[K\n",
            "remote: Compressing objects: 100% (119/119), done.\u001b[K\n",
            "remote: Total 199 (delta 119), reused 148 (delta 75), pack-reused 0 (from 0)\u001b[K\n",
            "Receiving objects: 100% (199/199), 263.77 KiB | 6.43 MiB/s, done.\n",
            "Resolving deltas: 100% (119/119), done.\n"
          ]
        }
      ],
      "source": [
        "!git clone https://github.com/asigatchov/vball-net.git"
      ]
    },
    {
      "cell_type": "markdown",
      "source": [
        "Install uv and dependencies in the project"
      ],
      "metadata": {
        "id": "In6vOOkM32h8"
      }
    },
    {
      "cell_type": "code",
      "source": [
        "%cd /content/vball-net\n",
        "!pip install uv\n",
        "uv sync  >> /dev/null  2>&1\n"
      ],
      "metadata": {
        "colab": {
          "base_uri": "https://localhost:8080/"
        },
        "id": "xRgQ5pQ_yVIO",
        "outputId": "37078361-4a06-44af-b7e1-29decc14f63c"
      },
      "execution_count": 7,
      "outputs": [
        {
          "output_type": "stream",
          "name": "stdout",
          "text": [
            "Requirement already satisfied: uv in /usr/local/lib/python3.11/dist-packages (0.8.0)\n"
          ]
        }
      ]
    },
    {
      "cell_type": "markdown",
      "source": [
        "Let's load the labeled data for training - volleyball-orel.ru"
      ],
      "metadata": {
        "id": "IkHSqh7q4k-V"
      }
    },
    {
      "cell_type": "code",
      "source": [
        "DATASET_URL=\"https://volleyball-orel.ru/system/docs/data_20250711_2330.tgz\"\n",
        "DATASET_DIR=\"/content/vball-net/data\"\n",
        "PROJECT_DIR=\"/content/vball-net\"\n",
        "!echo \"Loading...\"\n",
        "!echo \"$DATASET_DIR\"\n",
        "!curl -L \"$DATASET_URL\" -o dataset.tgz\n",
        "!tar -xzf dataset.tgz -C \"$PROJECT_DIR\"\n",
        "#!rm dataset.tgz\n"
      ],
      "metadata": {
        "colab": {
          "base_uri": "https://localhost:8080/"
        },
        "id": "FkhStRLTyxEp",
        "outputId": "41a283be-eb0f-48a0-986e-8e1f2051f309"
      },
      "execution_count": 5,
      "outputs": [
        {
          "output_type": "stream",
          "name": "stdout",
          "text": [
            "Loading...\n",
            "/content/vball-net/data\n",
            "  % Total    % Received % Xferd  Average Speed   Time    Time     Time  Current\n",
            "                                 Dload  Upload   Total   Spent    Left  Speed\n",
            "100  801M  100  801M    0     0  17.1M      0  0:00:46  0:00:46 --:--:-- 21.3M\n"
          ]
        }
      ]
    },
    {
      "cell_type": "code",
      "source": [
        "!cd vball-net/; git checkout player-net"
      ],
      "metadata": {
        "id": "VqP8z7-R6n3q",
        "outputId": "b3311620-009d-447a-e136-53102d98983b",
        "colab": {
          "base_uri": "https://localhost:8080/"
        }
      },
      "execution_count": null,
      "outputs": [
        {
          "output_type": "stream",
          "name": "stdout",
          "text": [
            "error: Your local changes to the following files would be overwritten by checkout:\n",
            "\tsrc/train_v1.py\n",
            "Please commit your changes or stash them before you switch branches.\n",
            "Aborting\n"
          ]
        }
      ]
    },
    {
      "cell_type": "markdown",
      "source": [
        "\n",
        "Let's prepare the data for training.\n",
        "\n",
        "Video parsing by frames for short clips 512*288\n",
        "\n",
        "csv - files and intersect coordinates for the new size (512*288)\n"
      ],
      "metadata": {
        "id": "fu7gUJ304jqh"
      }
    },
    {
      "cell_type": "code",
      "source": [
        "!cd ./vball-net/; uv run src/preprocess.py > /dev/null; echo \"Prepare Done\""
      ],
      "metadata": {
        "colab": {
          "base_uri": "https://localhost:8080/"
        },
        "collapsed": true,
        "id": "nHeM9pZH0VLP",
        "outputId": "0d53c0c9-592e-4155-978f-082cd2a123b4"
      },
      "execution_count": 6,
      "outputs": [
        {
          "output_type": "stream",
          "name": "stdout",
          "text": [
            "Prepare Done\n"
          ]
        }
      ]
    },
    {
      "cell_type": "code",
      "source": [
        "!cd vball-net/; uv run src/train_v1.py --grayscale --seq 9  --model_name VballNetV1 --epochs 250 --resume  # --gpu_memory_limit 2600"
      ],
      "metadata": {
        "id": "1cu7duWD5wcT",
        "outputId": "e0f0a388-cceb-41e9-9a05-892c6d709caf",
        "colab": {
          "base_uri": "https://localhost:8080/"
        }
      },
      "execution_count": 10,
      "outputs": [
        {
          "output_type": "stream",
          "name": "stdout",
          "text": [
            "2025-07-22 03:34:29.323050: E external/local_xla/xla/stream_executor/cuda/cuda_fft.cc:485] Unable to register cuFFT factory: Attempting to register factory for plugin cuFFT when one has already been registered\n",
            "2025-07-22 03:34:29.346813: E external/local_xla/xla/stream_executor/cuda/cuda_dnn.cc:8454] Unable to register cuDNN factory: Attempting to register factory for plugin cuDNN when one has already been registered\n",
            "2025-07-22 03:34:29.354108: E external/local_xla/xla/stream_executor/cuda/cuda_blas.cc:1452] Unable to register cuBLAS factory: Attempting to register factory for plugin cuBLAS when one has already been registered\n",
            "2025-07-22 03:34:29.370591: I tensorflow/core/platform/cpu_feature_guard.cc:210] This TensorFlow binary is optimized to use available CPU instructions in performance-critical operations.\n",
            "To enable the following instructions: AVX2 FMA, in other operations, rebuild TensorFlow with the appropriate compiler flags.\n",
            "2025-07-22 03:34:30.654335: W tensorflow/compiler/tf2tensorrt/utils/py_utils.cc:38] TF-TRT Warning: Could not find TensorRT\n",
            "2025-07-22 03:34:32 - INFO - Starting training script with seq=9, grayscale=True, debug=False, resume=True, model_name=VballNetV1, alpha=-1.0 gpu_memory_limit=-1\n",
            "No GPUs found. Running on CPU.\n",
            "2025-07-22 03:34:32 - INFO - Created model save directory: models/VballNetV1_seq9_grayscale\n",
            "2025-07-22 03:34:34 - INFO - Number of training pairs: 22790\n",
            "2025-07-22 03:34:34 - INFO - Number of test pairs: 5840\n",
            "2025-07-22 03:34:36 - INFO - Number of training batches: 5698\n",
            "2025-07-22 03:34:36 - INFO - Number of test batches: 1460\n",
            "Creating model VballNetV1 with height=288, width=512, in_dim=9, out_dim=9, seq=9, grayscale=True\n",
            "2025-07-22 03:34:36 - INFO - Model: \"functional\"\n",
            "┏━━━━━━━━━━━━━━━━━━━━━┳━━━━━━━━━━━━━━━━━━━┳━━━━━━━━━━━━┳━━━━━━━━━━━━━━━━━━━┓\n",
            "┃ Layer (type)        ┃ Output Shape      ┃    Param # ┃ Connected to      ┃\n",
            "┡━━━━━━━━━━━━━━━━━━━━━╇━━━━━━━━━━━━━━━━━━━╇━━━━━━━━━━━━╇━━━━━━━━━━━━━━━━━━━┩\n",
            "│ input_layer         │ (None, 9, 288,    │          0 │ -                 │\n",
            "│ (InputLayer)        │ 512)              │            │                   │\n",
            "├─────────────────────┼───────────────────┼────────────┼───────────────────┤\n",
            "│ separable_conv2d    │ (None, 32, 288,   │        401 │ input_layer[0][0] │\n",
            "│ (SeparableConv2D)   │ 512)              │            │                   │\n",
            "├─────────────────────┼───────────────────┼────────────┼───────────────────┤\n",
            "│ activation          │ (None, 32, 288,   │          0 │ separable_conv2d… │\n",
            "│ (Activation)        │ 512)              │            │                   │\n",
            "├─────────────────────┼───────────────────┼────────────┼───────────────────┤\n",
            "│ batch_normalization │ (None, 32, 288,   │      2,048 │ activation[0][0]  │\n",
            "│ (BatchNormalizatio… │ 512)              │            │                   │\n",
            "├─────────────────────┼───────────────────┼────────────┼───────────────────┤\n",
            "│ separable_conv2d_1  │ (None, 32, 288,   │      1,344 │ batch_normalizat… │\n",
            "│ (SeparableConv2D)   │ 512)              │            │                   │\n",
            "├─────────────────────┼───────────────────┼────────────┼───────────────────┤\n",
            "│ activation_1        │ (None, 32, 288,   │          0 │ separable_conv2d… │\n",
            "│ (Activation)        │ 512)              │            │                   │\n",
            "├─────────────────────┼───────────────────┼────────────┼───────────────────┤\n",
            "│ batch_normalizatio… │ (None, 32, 288,   │      2,048 │ activation_1[0][… │\n",
            "│ (BatchNormalizatio… │ 512)              │            │                   │\n",
            "├─────────────────────┼───────────────────┼────────────┼───────────────────┤\n",
            "│ max_pooling2d       │ (None, 32, 144,   │          0 │ batch_normalizat… │\n",
            "│ (MaxPooling2D)      │ 256)              │            │                   │\n",
            "├─────────────────────┼───────────────────┼────────────┼───────────────────┤\n",
            "│ separable_conv2d_2  │ (None, 64, 144,   │      2,400 │ max_pooling2d[0]… │\n",
            "│ (SeparableConv2D)   │ 256)              │            │                   │\n",
            "├─────────────────────┼───────────────────┼────────────┼───────────────────┤\n",
            "│ activation_2        │ (None, 64, 144,   │          0 │ separable_conv2d… │\n",
            "│ (Activation)        │ 256)              │            │                   │\n",
            "├─────────────────────┼───────────────────┼────────────┼───────────────────┤\n",
            "│ batch_normalizatio… │ (None, 64, 144,   │      1,024 │ activation_2[0][… │\n",
            "│ (BatchNormalizatio… │ 256)              │            │                   │\n",
            "├─────────────────────┼───────────────────┼────────────┼───────────────────┤\n",
            "│ max_pooling2d_1     │ (None, 64, 72,    │          0 │ batch_normalizat… │\n",
            "│ (MaxPooling2D)      │ 128)              │            │                   │\n",
            "├─────────────────────┼───────────────────┼────────────┼───────────────────┤\n",
            "│ separable_conv2d_3  │ (None, 128, 72,   │      8,896 │ max_pooling2d_1[… │\n",
            "│ (SeparableConv2D)   │ 128)              │            │                   │\n",
            "├─────────────────────┼───────────────────┼────────────┼───────────────────┤\n",
            "│ activation_3        │ (None, 128, 72,   │          0 │ separable_conv2d… │\n",
            "│ (Activation)        │ 128)              │            │                   │\n",
            "├─────────────────────┼───────────────────┼────────────┼───────────────────┤\n",
            "│ batch_normalizatio… │ (None, 128, 72,   │        512 │ activation_3[0][… │\n",
            "│ (BatchNormalizatio… │ 128)              │            │                   │\n",
            "├─────────────────────┼───────────────────┼────────────┼───────────────────┤\n",
            "│ up_sampling2d       │ (None, 128, 144,  │          0 │ batch_normalizat… │\n",
            "│ (UpSampling2D)      │ 256)              │            │                   │\n",
            "├─────────────────────┼───────────────────┼────────────┼───────────────────┤\n",
            "│ concatenate         │ (None, 192, 144,  │          0 │ up_sampling2d[0]… │\n",
            "│ (Concatenate)       │ 256)              │            │ batch_normalizat… │\n",
            "├─────────────────────┼───────────────────┼────────────┼───────────────────┤\n",
            "│ separable_conv2d_4  │ (None, 64, 144,   │     14,080 │ concatenate[0][0] │\n",
            "│ (SeparableConv2D)   │ 256)              │            │                   │\n",
            "├─────────────────────┼───────────────────┼────────────┼───────────────────┤\n",
            "│ activation_4        │ (None, 64, 144,   │          0 │ separable_conv2d… │\n",
            "│ (Activation)        │ 256)              │            │                   │\n",
            "├─────────────────────┼───────────────────┼────────────┼───────────────────┤\n",
            "│ batch_normalizatio… │ (None, 64, 144,   │      1,024 │ activation_4[0][… │\n",
            "│ (BatchNormalizatio… │ 256)              │            │                   │\n",
            "├─────────────────────┼───────────────────┼────────────┼───────────────────┤\n",
            "│ up_sampling2d_1     │ (None, 64, 288,   │          0 │ batch_normalizat… │\n",
            "│ (UpSampling2D)      │ 512)              │            │                   │\n",
            "├─────────────────────┼───────────────────┼────────────┼───────────────────┤\n",
            "│ concatenate_1       │ (None, 96, 288,   │          0 │ up_sampling2d_1[… │\n",
            "│ (Concatenate)       │ 512)              │            │ batch_normalizat… │\n",
            "├─────────────────────┼───────────────────┼────────────┼───────────────────┤\n",
            "│ separable_conv2d_5  │ (None, 32, 288,   │      3,968 │ concatenate_1[0]… │\n",
            "│ (SeparableConv2D)   │ 512)              │            │                   │\n",
            "├─────────────────────┼───────────────────┼────────────┼───────────────────┤\n",
            "│ activation_5        │ (None, 32, 288,   │          0 │ separable_conv2d… │\n",
            "│ (Activation)        │ 512)              │            │                   │\n",
            "├─────────────────────┼───────────────────┼────────────┼───────────────────┤\n",
            "│ batch_normalizatio… │ (None, 32, 288,   │      2,048 │ activation_5[0][… │\n",
            "│ (BatchNormalizatio… │ 512)              │            │                   │\n",
            "├─────────────────────┼───────────────────┼────────────┼───────────────────┤\n",
            "│ reshape (Reshape)   │ (None, 9, 1, 288, │          0 │ input_layer[0][0] │\n",
            "│                     │ 512)              │            │                   │\n",
            "├─────────────────────┼───────────────────┼────────────┼───────────────────┤\n",
            "│ conv2d (Conv2D)     │ (None, 9, 288,    │        297 │ batch_normalizat… │\n",
            "│                     │ 512)              │            │                   │\n",
            "├─────────────────────┼───────────────────┼────────────┼───────────────────┤\n",
            "│ motion_prompt_layer │ [(None, 9, 288,   │          2 │ reshape[0][0]     │\n",
            "│ (MotionPromptLayer) │ 512), ()]         │            │                   │\n",
            "├─────────────────────┼───────────────────┼────────────┼───────────────────┤\n",
            "│ fusion_layer_type_a │ (None, 9, 288,    │          0 │ conv2d[0][0],     │\n",
            "│ (FusionLayerTypeA)  │ 512)              │            │ motion_prompt_la… │\n",
            "├─────────────────────┼───────────────────┼────────────┼───────────────────┤\n",
            "│ activation_6        │ (None, 9, 288,    │          0 │ fusion_layer_typ… │\n",
            "│ (Activation)        │ 512)              │            │                   │\n",
            "└─────────────────────┴───────────────────┴────────────┴───────────────────┘\n",
            " Total params: 40,092 (156.61 KB)\n",
            " Trainable params: 35,740 (139.61 KB)\n",
            " Non-trainable params: 4,352 (17.00 KB)\n",
            "\n",
            "2025-07-22 03:34:36 - WARNING - No checkpoints found for VballNetV1_seq9_grayscale in models/VballNetV1_seq9_grayscale, starting training from scratch.\n",
            "2025-07-22 03:34:36 - INFO - Model compiled with optimizer=Adam(lr_schedule), loss=custom_loss, metrics=['mae']\n",
            "2025-07-22 03:34:36 - INFO - Callbacks configured: ModelCheckpoint, TensorBoard, EarlyStopping, OutcomeMetricsCallback, LearningRateLogger, VisualizationCallback\n",
            "2025-07-22 03:34:37 - INFO - Frames shape: (4, 9, 288, 512)\n",
            "2025-07-22 03:34:37 - INFO - Heatmaps shape: (4, 9, 288, 512)\n",
            "2025-07-22 03:34:37.645740: I tensorflow/core/framework/local_rendezvous.cc:404] Local rendezvous is aborting with status: OUT_OF_RANGE: End of sequence\n",
            "2025-07-22 03:34:37 - INFO - Starting training...\n",
            "Epoch 1/250\n",
            "Traceback (most recent call last):\n",
            "  File \"/content/vball-net/src/train_v1.py\", line 487, in <module>\n",
            "    main()\n",
            "  File \"/content/vball-net/src/train_v1.py\", line 476, in main\n",
            "    model.fit(\n",
            "  File \"/content/vball-net/.venv/lib/python3.11/site-packages/keras/src/utils/traceback_utils.py\", line 122, in error_handler\n",
            "    raise e.with_traceback(filtered_tb) from None\n",
            "  File \"/content/vball-net/.venv/lib/python3.11/site-packages/tensorflow/python/eager/execute.py\", line 53, in quick_execute\n",
            "    tensors = pywrap_tfe.TFE_Py_Execute(ctx._handle, device_name, op_name,\n",
            "  ^^^^^^^^^^^^^^^^^^^^^^^^^^^^^^^^^^^^^^^^^^^^^^^^^^^^^^^^^^^^^^^^^^^^^^^^\n",
            "tensorflow.python.framework.errors_impl.InvalidArgumentError: Graph execution error:\n",
            "\n",
            "Detected at node gradient_tape/functional_1/conv2d_1/convolution/Conv2DBackpropInput defined at (most recent call last):\n",
            "  File \"/content/vball-net/src/train_v1.py\", line 487, in <module>\n",
            "\n",
            "  File \"/content/vball-net/src/train_v1.py\", line 476, in main\n",
            "\n",
            "  File \"/content/vball-net/.venv/lib/python3.11/site-packages/keras/src/utils/traceback_utils.py\", line 117, in error_handler\n",
            "\n",
            "  File \"/content/vball-net/.venv/lib/python3.11/site-packages/keras/src/backend/tensorflow/trainer.py\", line 320, in fit\n",
            "\n",
            "  File \"/content/vball-net/.venv/lib/python3.11/site-packages/keras/src/backend/tensorflow/trainer.py\", line 121, in one_step_on_iterator\n",
            "\n",
            "  File \"/content/vball-net/.venv/lib/python3.11/site-packages/keras/src/backend/tensorflow/trainer.py\", line 108, in one_step_on_data\n",
            "\n",
            "  File \"/content/vball-net/.venv/lib/python3.11/site-packages/keras/src/backend/tensorflow/trainer.py\", line 70, in train_step\n",
            "\n",
            "Conv2DCustomBackpropInputOp only supports NHWC.\n",
            "\t [[{{node gradient_tape/functional_1/conv2d_1/convolution/Conv2DBackpropInput}}]] [Op:__inference_one_step_on_iterator_11191]\n"
          ]
        }
      ]
    }
  ]
}