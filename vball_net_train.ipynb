{
  "nbformat": 4,
  "nbformat_minor": 0,
  "metadata": {
    "colab": {
      "provenance": [],
      "authorship_tag": "ABX9TyOK9Z5bNTLFyVJB1oAGncWv",
      "include_colab_link": true
    },
    "kernelspec": {
      "name": "python3",
      "display_name": "Python 3"
    },
    "language_info": {
      "name": "python"
    }
  },
  "cells": [
    {
      "cell_type": "markdown",
      "metadata": {
        "id": "view-in-github",
        "colab_type": "text"
      },
      "source": [
        "<a href=\"https://colab.research.google.com/github/asigatchov/vball-net/blob/main/vball_net_train.ipynb\" target=\"_parent\"><img src=\"https://colab.research.google.com/assets/colab-badge.svg\" alt=\"Open In Colab\"/></a>"
      ]
    },
    {
      "cell_type": "markdown",
      "source": [
        "[vball-net repo](https://github.com/asigatchov/vball-net). Clone the repository and load the labeled data for model training.\n"
      ],
      "metadata": {
        "id": "5lGWffxo23Df"
      }
    },
    {
      "cell_type": "code",
      "execution_count": 29,
      "metadata": {
        "colab": {
          "base_uri": "https://localhost:8080/"
        },
        "id": "x0dQ5YKYx67r",
        "outputId": "03f7893f-5a79-4611-86dc-851706763f54"
      },
      "outputs": [
        {
          "output_type": "stream",
          "name": "stdout",
          "text": [
            "fatal: destination path 'vball-net' already exists and is not an empty directory.\n"
          ]
        }
      ],
      "source": [
        "!git clone https://github.com/asigatchov/vball-net.git"
      ]
    },
    {
      "cell_type": "markdown",
      "source": [
        "Install uv and dependencies in the project"
      ],
      "metadata": {
        "id": "In6vOOkM32h8"
      }
    },
    {
      "cell_type": "code",
      "source": [
        "!pip install uv\n",
        "!cd vball-net/ && uv sync 2>&1 >> /dev/null\n"
      ],
      "metadata": {
        "colab": {
          "base_uri": "https://localhost:8080/"
        },
        "id": "xRgQ5pQ_yVIO",
        "outputId": "799404bd-7b51-4c18-dcfe-990a5076e7b6"
      },
      "execution_count": 10,
      "outputs": [
        {
          "output_type": "stream",
          "name": "stdout",
          "text": [
            "Requirement already satisfied: uv in /usr/local/lib/python3.11/dist-packages (0.8.0)\n",
            "\u001b[2mResolved \u001b[1m126 packages\u001b[0m \u001b[2min 2ms\u001b[0m\u001b[0m\n",
            "\u001b[2mAudited \u001b[1m123 packages\u001b[0m \u001b[2min 0.07ms\u001b[0m\u001b[0m\n"
          ]
        }
      ]
    },
    {
      "cell_type": "markdown",
      "source": [
        "Let's load the labeled data for training - volleyball-orel.ru"
      ],
      "metadata": {
        "id": "IkHSqh7q4k-V"
      }
    },
    {
      "cell_type": "code",
      "source": [
        "DATASET_URL=\"https://volleyball-orel.ru/system/docs/data_20250711_2330.tgz\"\n",
        "DATASET_DIR=\"/content/vball-net/data\"\n",
        "PROJECT_DIR=\"/content/vball-net\"\n",
        "!echo \"Loading...\"\n",
        "!echo \"$DATASET_DIR\"\n",
        "#!curl -L \"$DATASET_URL\" -o dataset.tgz\n",
        "!tar -xzf dataset.tgz -C \"$PROJECT_DIR\"\n",
        "#!rm dataset.tgz\n"
      ],
      "metadata": {
        "colab": {
          "base_uri": "https://localhost:8080/"
        },
        "id": "FkhStRLTyxEp",
        "outputId": "cf7de0eb-a80c-4ba3-c646-601a9f7023b5"
      },
      "execution_count": 25,
      "outputs": [
        {
          "output_type": "stream",
          "name": "stdout",
          "text": [
            "Loading...\n",
            "/content/vball-net/data\n",
            "extract in ...\n"
          ]
        }
      ]
    },
    {
      "cell_type": "markdown",
      "source": [
        "\n",
        "Let's prepare the data for training.\n",
        "\n",
        "Video parsing by frames for short clips 512*288\n",
        "\n",
        "csv - files and intersect coordinates for the new size (512*288)\n"
      ],
      "metadata": {
        "id": "fu7gUJ304jqh"
      }
    },
    {
      "cell_type": "code",
      "source": [
        "!cd ./vball-net/; uv run src/preprocess.py"
      ],
      "metadata": {
        "colab": {
          "base_uri": "https://localhost:8080/"
        },
        "collapsed": true,
        "id": "nHeM9pZH0VLP",
        "outputId": "cd5aef69-22c7-4e7e-e432-c2d5263a0286"
      },
      "execution_count": 28,
      "outputs": [
        {
          "output_type": "stream",
          "name": "stdout",
          "text": [
            "Processing video: obl_man_orlovski_ogau_0001_odd0_30fps\n",
            "Processing 115 frames for video: obl_man_orlovski_ogau_0001_odd0_30fps\n",
            "Saved processed CSV: /home/gled/frames/train/obl_man_orlovski_ogau_0001_odd0_30fps_ball.csv\n",
            "Processing video: obl_man_orlovski_ogau_0002_odd0_30fps\n",
            "Processing 347 frames for video: obl_man_orlovski_ogau_0002_odd0_30fps\n",
            "Saved processed CSV: /home/gled/frames/train/obl_man_orlovski_ogau_0002_odd0_30fps_ball.csv\n",
            "Processing video: obl_woman_orlovski_sber_0001_odd0_30fps\n",
            "Processing 315 frames for video: obl_woman_orlovski_sber_0001_odd0_30fps\n",
            "Saved processed CSV: /home/gled/frames/train/obl_woman_orlovski_sber_0001_odd0_30fps_ball.csv\n",
            "Processing video: 4m2w_transmash_20250516_1_00001\n",
            "Processing 608 frames for video: 4m2w_transmash_20250516_1_00001\n",
            "Saved processed CSV: /home/gled/frames/train/4m2w_transmash_20250516_1_00001_ball.csv\n",
            "Processing video: 4m2w_transmash_20250516_1_00001_odd0_30fps\n",
            "Processing 304 frames for video: 4m2w_transmash_20250516_1_00001_odd0_30fps\n",
            "Saved processed CSV: /home/gled/frames/train/4m2w_transmash_20250516_1_00001_odd0_30fps_ball.csv\n",
            "Processing video: 4m2w_transmash_20250516_1_00002\n",
            "Processing 343 frames for video: 4m2w_transmash_20250516_1_00002\n",
            "Saved processed CSV: /home/gled/frames/train/4m2w_transmash_20250516_1_00002_ball.csv\n",
            "Processing video: 4m2w_transmash_20250516_1_00009_odd0_30fps\n",
            "Processing 314 frames for video: 4m2w_transmash_20250516_1_00009_odd0_30fps\n",
            "Saved processed CSV: /home/gled/frames/train/4m2w_transmash_20250516_1_00009_odd0_30fps_ball.csv\n",
            "Processing video: 4m2w_transmash_20250516_1_00009_odd1_30fps\n",
            "Processing 314 frames for video: 4m2w_transmash_20250516_1_00009_odd1_30fps\n",
            "Saved processed CSV: /home/gled/frames/train/4m2w_transmash_20250516_1_00009_odd1_30fps_ball.csv\n",
            "Processing video: 4m2w_20250620_transhmash_3_001\n",
            "Processing 455 frames for video: 4m2w_20250620_transhmash_3_001\n",
            "Saved processed CSV: /home/gled/frames/train/4m2w_20250620_transhmash_3_001_ball.csv\n",
            "Processing video: 4m2w_20250620_transhmash_3_002\n",
            "Processing 304 frames for video: 4m2w_20250620_transhmash_3_002\n",
            "Saved processed CSV: /home/gled/frames/train/4m2w_20250620_transhmash_3_002_ball.csv\n",
            "Processing video: 4m2w_20250620_transhmash_3_003\n",
            "Processing 97 frames for video: 4m2w_20250620_transhmash_3_003\n",
            "Saved processed CSV: /home/gled/frames/train/4m2w_20250620_transhmash_3_003_ball.csv\n",
            "Processing video: 4m2w_20250620_transhmash_3_004\n",
            "Processing 175 frames for video: 4m2w_20250620_transhmash_3_004\n",
            "Saved processed CSV: /home/gled/frames/train/4m2w_20250620_transhmash_3_004_ball.csv\n",
            "Processing video: 4m2w_20250620_transhmash_3_005\n",
            "Processing 138 frames for video: 4m2w_20250620_transhmash_3_005\n",
            "Saved processed CSV: /home/gled/frames/train/4m2w_20250620_transhmash_3_005_ball.csv\n",
            "Processing video: 4m2w_20250620_transhmash_3_006\n",
            "Processing 160 frames for video: 4m2w_20250620_transhmash_3_006\n",
            "Saved processed CSV: /home/gled/frames/train/4m2w_20250620_transhmash_3_006_ball.csv\n",
            "Processing video: 5m1g_lokomotiv_rus_berhovie_001\n",
            "Processing 209 frames for video: 5m1g_lokomotiv_rus_berhovie_001\n",
            "Saved processed CSV: /home/gled/frames/train/5m1g_lokomotiv_rus_berhovie_001_ball.csv\n",
            "Processing video: 5m1g_lokomotiv_rus_berhovie_002\n",
            "Processing 260 frames for video: 5m1g_lokomotiv_rus_berhovie_002\n",
            "Saved processed CSV: /home/gled/frames/train/5m1g_lokomotiv_rus_berhovie_002_ball.csv\n",
            "Processing video: 5m1g_lokomotiv_rus_berhovie_003\n",
            "Processing 1119 frames for video: 5m1g_lokomotiv_rus_berhovie_003\n",
            "Saved processed CSV: /home/gled/frames/train/5m1g_lokomotiv_rus_berhovie_003_ball.csv\n",
            "Processing video: woman_transhmash_2_00001\n",
            "Processing 581 frames for video: woman_transhmash_2_00001\n",
            "Saved processed CSV: /home/gled/frames/train/woman_transhmash_2_00001_ball.csv\n",
            "Processing video: woman_transhmash_2_00002\n",
            "Processing 184 frames for video: woman_transhmash_2_00002\n",
            "Saved processed CSV: /home/gled/frames/train/woman_transhmash_2_00002_ball.csv\n",
            "Processing video: woman_transhmash_2_00003\n",
            "Processing 497 frames for video: woman_transhmash_2_00003\n",
            "Saved processed CSV: /home/gled/frames/train/woman_transhmash_2_00003_ball.csv\n",
            "Processing video: woman_transhmash_2_00005\n",
            "Processing 649 frames for video: woman_transhmash_2_00005\n",
            "Saved processed CSV: /home/gled/frames/train/woman_transhmash_2_00005_ball.csv\n",
            "Processing video: 4m2g_transhmash_20250620_g1_002\n",
            "Processing 378 frames for video: 4m2g_transhmash_20250620_g1_002\n",
            "Saved processed CSV: /home/gled/frames/train/4m2g_transhmash_20250620_g1_002_ball.csv\n",
            "Processing video: 4m2g_transhmash_20250620_g1_003\n",
            "Processing 1050 frames for video: 4m2g_transhmash_20250620_g1_003\n",
            "Saved processed CSV: /home/gled/frames/train/4m2g_transhmash_20250620_g1_003_ball.csv\n",
            "Processing video: 4m2g_transhmash_20250620_g1_004\n",
            "Processing 197 frames for video: 4m2g_transhmash_20250620_g1_004\n",
            "Saved processed CSV: /home/gled/frames/train/4m2g_transhmash_20250620_g1_004_ball.csv\n",
            "Processing video: 4m2g_transhmash_20250620_g1_005\n",
            "Processing 523 frames for video: 4m2g_transhmash_20250620_g1_005\n",
            "Saved processed CSV: /home/gled/frames/train/4m2g_transhmash_20250620_g1_005_ball.csv\n",
            "Processing video: 4m2g_transhmash_20250620_g1_006\n",
            "Processing 150 frames for video: 4m2g_transhmash_20250620_g1_006\n",
            "Saved processed CSV: /home/gled/frames/train/4m2g_transhmash_20250620_g1_006_ball.csv\n",
            "Processing video: gtu_20250316_001\n",
            "Processing 86 frames for video: gtu_20250316_001\n",
            "Saved processed CSV: /home/gled/frames/train/gtu_20250316_001_ball.csv\n",
            "Processing video: gtu_20250316_002\n",
            "Processing 991 frames for video: gtu_20250316_002\n",
            "Saved processed CSV: /home/gled/frames/train/gtu_20250316_002_ball.csv\n",
            "Processing video: gtu_20250316_004\n",
            "Processing 258 frames for video: gtu_20250316_004\n",
            "Saved processed CSV: /home/gled/frames/train/gtu_20250316_004_ball.csv\n",
            "Processing video: st_lelina_20250430_00001_odd0_30fps\n",
            "Processing 501 frames for video: st_lelina_20250430_00001_odd0_30fps\n",
            "Saved processed CSV: /home/gled/frames/train/st_lelina_20250430_00001_odd0_30fps_ball.csv\n",
            "Processing video: st_lelina_20250430_00002_odd0_30fps\n",
            "Processing 151 frames for video: st_lelina_20250430_00002_odd0_30fps\n",
            "Saved processed CSV: /home/gled/frames/train/st_lelina_20250430_00002_odd0_30fps_ball.csv\n",
            "Processing video: st_lelina_20250430_00006_odd0_30fps\n",
            "Processing 321 frames for video: st_lelina_20250430_00006_odd0_30fps\n",
            "Saved processed CSV: /home/gled/frames/train/st_lelina_20250430_00006_odd0_30fps_ball.csv\n",
            "Processing video: st_lelina_20250430_00007_odd0_30fps\n",
            "Processing 648 frames for video: st_lelina_20250430_00007_odd0_30fps\n",
            "Saved processed CSV: /home/gled/frames/train/st_lelina_20250430_00007_odd0_30fps_ball.csv\n",
            "Processing video: g_br_1_track_003\n",
            "Processing 138 frames for video: g_br_1_track_003\n",
            "Saved processed CSV: /home/gled/frames/train/g_br_1_track_003_ball.csv\n",
            "Processing video: g_br_1_track_006\n",
            "Processing 83 frames for video: g_br_1_track_006\n",
            "Saved processed CSV: /home/gled/frames/train/g_br_1_track_006_ball.csv\n",
            "Processing video: g_br_1_track_011\n",
            "Processing 159 frames for video: g_br_1_track_011\n",
            "Saved processed CSV: /home/gled/frames/train/g_br_1_track_011_ball.csv\n",
            "Processing video: g_br_1_track_016\n",
            "Processing 1319 frames for video: g_br_1_track_016\n",
            "Saved processed CSV: /home/gled/frames/train/g_br_1_track_016_ball.csv\n",
            "Processing video: g_br_1_track_057\n",
            "Processing 196 frames for video: g_br_1_track_057\n",
            "Saved processed CSV: /home/gled/frames/train/g_br_1_track_057_ball.csv\n",
            "Processing video: g_br_1_track_069\n",
            "Processing 102 frames for video: g_br_1_track_069\n",
            "Saved processed CSV: /home/gled/frames/train/g_br_1_track_069_ball.csv\n",
            "Processing video: g_br_1_track_071\n",
            "Processing 168 frames for video: g_br_1_track_071\n",
            "Saved processed CSV: /home/gled/frames/train/g_br_1_track_071_ball.csv\n",
            "Processing video: g_br_1_track_081\n",
            "Processing 95 frames for video: g_br_1_track_081\n",
            "Saved processed CSV: /home/gled/frames/train/g_br_1_track_081_ball.csv\n",
            "Processing video: g_br_1_track_101\n",
            "Processing 191 frames for video: g_br_1_track_101\n",
            "Saved processed CSV: /home/gled/frames/train/g_br_1_track_101_ball.csv\n",
            "Processing video: g_br_1_track_115\n",
            "Processing 390 frames for video: g_br_1_track_115\n",
            "Saved processed CSV: /home/gled/frames/train/g_br_1_track_115_ball.csv\n",
            "Processing video: g_br_1_track_119\n",
            "Processing 432 frames for video: g_br_1_track_119\n",
            "Saved processed CSV: /home/gled/frames/train/g_br_1_track_119_ball.csv\n",
            "Processing video: g_br_1_track_131\n",
            "Processing 231 frames for video: g_br_1_track_131\n",
            "Saved processed CSV: /home/gled/frames/train/g_br_1_track_131_ball.csv\n",
            "Processing video: pobead_4m-2w_1place_00001\n",
            "Processing 97 frames for video: pobead_4m-2w_1place_00001\n",
            "Saved processed CSV: /home/gled/frames/train/pobead_4m-2w_1place_00001_ball.csv\n",
            "Processing video: pobead_4m-2w_1place_00002\n",
            "Processing 361 frames for video: pobead_4m-2w_1place_00002\n",
            "Saved processed CSV: /home/gled/frames/train/pobead_4m-2w_1place_00002_ball.csv\n",
            "Processing video: pobead_4m-2w_1place_00003\n",
            "Processing 130 frames for video: pobead_4m-2w_1place_00003\n",
            "Saved processed CSV: /home/gled/frames/train/pobead_4m-2w_1place_00003_ball.csv\n",
            "Processing video: pobead_4m-2w_1place_00005\n",
            "Processing 426 frames for video: pobead_4m-2w_1place_00005\n",
            "Saved processed CSV: /home/gled/frames/train/pobead_4m-2w_1place_00005_ball.csv\n",
            "Processing video: st_lelina_20250430_00002_odd1_30fps_mirror\n",
            "Processing 151 frames for video: st_lelina_20250430_00002_odd1_30fps_mirror\n",
            "Saved processed CSV: /home/gled/frames/train/st_lelina_20250430_00002_odd1_30fps_mirror_ball.csv\n",
            "Processing video: st_lelina_20250430_00006_odd0_30fps_mirror\n",
            "Processing 321 frames for video: st_lelina_20250430_00006_odd0_30fps_mirror\n",
            "Saved processed CSV: /home/gled/frames/train/st_lelina_20250430_00006_odd0_30fps_mirror_ball.csv\n",
            "Processing video: st_lelina_20250430_00007_odd0_30fps_mirror\n",
            "Processing 648 frames for video: st_lelina_20250430_00007_odd0_30fps_mirror\n",
            "Saved processed CSV: /home/gled/frames/train/st_lelina_20250430_00007_odd0_30fps_mirror_ball.csv\n",
            "Processing video: 4m2w_transmash_20250504_0001\n",
            "Processing 453 frames for video: 4m2w_transmash_20250504_0001\n",
            "Saved processed CSV: /home/gled/frames/train/4m2w_transmash_20250504_0001_ball.csv\n",
            "Processing video: 4m2w_transmash_20250504_0002\n",
            "Processing 275 frames for video: 4m2w_transmash_20250504_0002\n",
            "Saved processed CSV: /home/gled/frames/train/4m2w_transmash_20250504_0002_ball.csv\n",
            "Processing video: 4m2w_transmash_20250504_0004\n",
            "Processing 348 frames for video: 4m2w_transmash_20250504_0004\n",
            "Saved processed CSV: /home/gled/frames/train/4m2w_transmash_20250504_0004_ball.csv\n",
            "Processing video: 4m2w_transmash_20250504_0005\n",
            "Processing 252 frames for video: 4m2w_transmash_20250504_0005\n",
            "Saved processed CSV: /home/gled/frames/train/4m2w_transmash_20250504_0005_ball.csv\n",
            "Processing video: beach_st_lenina_20250622_g1_001\n",
            "Processing 696 frames for video: beach_st_lenina_20250622_g1_001\n",
            "Saved processed CSV: /home/gled/frames/train/beach_st_lenina_20250622_g1_001_ball.csv\n",
            "Processing video: beach_st_lenina_20250622_g1_003\n",
            "Processing 534 frames for video: beach_st_lenina_20250622_g1_003\n",
            "Saved processed CSV: /home/gled/frames/train/beach_st_lenina_20250622_g1_003_ball.csv\n",
            "Processing video: beach_st_lenina_20250622_g1_004\n",
            "Processing 210 frames for video: beach_st_lenina_20250622_g1_004\n",
            "Saved processed CSV: /home/gled/frames/train/beach_st_lenina_20250622_g1_004_ball.csv\n",
            "Processing video: beach_st_lenina_20250622_g1_005\n",
            "Processing 180 frames for video: beach_st_lenina_20250622_g1_005\n",
            "Saved processed CSV: /home/gled/frames/train/beach_st_lenina_20250622_g1_005_ball.csv\n",
            "Processing video: beach_st_lenina_20250622_g1_006\n",
            "Processing 188 frames for video: beach_st_lenina_20250622_g1_006\n",
            "Saved processed CSV: /home/gled/frames/train/beach_st_lenina_20250622_g1_006_ball.csv\n",
            "Processing video: beach_st_lenina_20250622_g1_007\n",
            "Processing 266 frames for video: beach_st_lenina_20250622_g1_007\n",
            "Saved processed CSV: /home/gled/frames/train/beach_st_lenina_20250622_g1_007_ball.csv\n",
            "Processing video: beach_st_lenina_20250622_g1_009\n",
            "Processing 331 frames for video: beach_st_lenina_20250622_g1_009\n",
            "Saved processed CSV: /home/gled/frames/train/beach_st_lenina_20250622_g1_009_ball.csv\n",
            "Processing video: obl_man_orlovski_ogau_0001_odd0_30fps_mirror\n",
            "Processing 115 frames for video: obl_man_orlovski_ogau_0001_odd0_30fps_mirror\n",
            "Saved processed CSV: /home/gled/frames/train/obl_man_orlovski_ogau_0001_odd0_30fps_mirror_ball.csv\n",
            "Processing video: obl_man_orlovski_ogau_0002_odd0_30fps_mirror\n",
            "Processing 347 frames for video: obl_man_orlovski_ogau_0002_odd0_30fps_mirror\n",
            "Saved processed CSV: /home/gled/frames/train/obl_man_orlovski_ogau_0002_odd0_30fps_mirror_ball.csv\n",
            "Processing video: obl_woman_orlovski_sber_0001_odd0_30fps_mirror\n",
            "Processing 315 frames for video: obl_woman_orlovski_sber_0001_odd0_30fps_mirror\n",
            "Saved processed CSV: /home/gled/frames/train/obl_woman_orlovski_sber_0001_odd0_30fps_mirror_ball.csv\n",
            "Processing video: 4m2w_20250620_transmash_3_far_001\n",
            "Processing 85 frames for video: 4m2w_20250620_transmash_3_far_001\n",
            "Saved processed CSV: /home/gled/frames/train/4m2w_20250620_transmash_3_far_001_ball.csv\n",
            "Processing video: 4m2w_20250620_transmash_3_far_002\n",
            "Processing 91 frames for video: 4m2w_20250620_transmash_3_far_002\n",
            "Saved processed CSV: /home/gled/frames/train/4m2w_20250620_transmash_3_far_002_ball.csv\n",
            "Processing video: 4m2w_20250620_transmash_3_far_003\n",
            "Processing 125 frames for video: 4m2w_20250620_transmash_3_far_003\n",
            "Saved processed CSV: /home/gled/frames/train/4m2w_20250620_transmash_3_far_003_ball.csv\n",
            "Processing video: 4m2w_20250620_transmash_3_far_004\n",
            "Processing 159 frames for video: 4m2w_20250620_transmash_3_far_004\n",
            "Saved processed CSV: /home/gled/frames/train/4m2w_20250620_transmash_3_far_004_ball.csv\n",
            "Processing video: obl_woman_orlovski_sber_0001_30fps\n",
            "Processing 315 frames for video: obl_woman_orlovski_sber_0001_30fps\n",
            "Saved processed CSV: /home/gled/frames/test/obl_woman_orlovski_sber_0001_30fps_ball.csv\n",
            "Processing video: 4m2w_transmash_20250516_1_00001_odd1_30fps\n",
            "Processing 304 frames for video: 4m2w_transmash_20250516_1_00001_odd1_30fps\n",
            "Saved processed CSV: /home/gled/frames/test/4m2w_transmash_20250516_1_00001_odd1_30fps_ball.csv\n",
            "Processing video: 4m2w_transmash_20250516_1_00002_odd0_30fps\n",
            "Processing 171 frames for video: 4m2w_transmash_20250516_1_00002_odd0_30fps\n",
            "Saved processed CSV: /home/gled/frames/test/4m2w_transmash_20250516_1_00002_odd0_30fps_ball.csv\n",
            "Processing video: 4m2w_transmash_20250516_1_00009\n",
            "Processing 628 frames for video: 4m2w_transmash_20250516_1_00009\n",
            "Saved processed CSV: /home/gled/frames/test/4m2w_transmash_20250516_1_00009_ball.csv\n",
            "Processing video: 4m2w_transmash_20250516_1_00009_odd0_30fps\n",
            "Processing 314 frames for video: 4m2w_transmash_20250516_1_00009_odd0_30fps\n",
            "Saved processed CSV: /home/gled/frames/test/4m2w_transmash_20250516_1_00009_odd0_30fps_ball.csv\n",
            "Processing video: 4m2g_transhmash_20250620_g1_004_720p\n",
            "Processing 197 frames for video: 4m2g_transhmash_20250620_g1_004_720p\n",
            "Saved processed CSV: /home/gled/frames/test/4m2g_transhmash_20250620_g1_004_720p_ball.csv\n",
            "Processing video: 4m2w_20250620_transhmash_3_007\n",
            "Processing 393 frames for video: 4m2w_20250620_transhmash_3_007\n",
            "Saved processed CSV: /home/gled/frames/test/4m2w_20250620_transhmash_3_007_ball.csv\n",
            "Processing video: 5m1g_lokomotiv_rus_berhovie_004\n",
            "Processing 388 frames for video: 5m1g_lokomotiv_rus_berhovie_004\n",
            "Saved processed CSV: /home/gled/frames/test/5m1g_lokomotiv_rus_berhovie_004_ball.csv\n",
            "Processing video: woman_transhmash_2_00004\n",
            "Processing 306 frames for video: woman_transhmash_2_00004\n",
            "Saved processed CSV: /home/gled/frames/test/woman_transhmash_2_00004_ball.csv\n",
            "Processing video: 4m2g_transhmash_20250620_g1_001\n",
            "Processing 362 frames for video: 4m2g_transhmash_20250620_g1_001\n",
            "Saved processed CSV: /home/gled/frames/test/4m2g_transhmash_20250620_g1_001_ball.csv\n",
            "Processing video: gtu_20250316_003\n",
            "Processing 336 frames for video: gtu_20250316_003\n",
            "Saved processed CSV: /home/gled/frames/test/gtu_20250316_003_ball.csv\n",
            "Processing video: gtu_20250316_005\n",
            "Processing 145 frames for video: gtu_20250316_005\n",
            "Saved processed CSV: /home/gled/frames/test/gtu_20250316_005_ball.csv\n",
            "Processing video: st_lelina_20250430_00001_odd1_30fps_mirror\n",
            "Processing 501 frames for video: st_lelina_20250430_00001_odd1_30fps_mirror\n",
            "Saved processed CSV: /home/gled/frames/test/st_lelina_20250430_00001_odd1_30fps_mirror_ball.csv\n",
            "Processing video: g_br_1_track_088\n",
            "Processing 178 frames for video: g_br_1_track_088\n",
            "Saved processed CSV: /home/gled/frames/test/g_br_1_track_088_ball.csv\n",
            "Processing video: g_br_1_track_092\n",
            "Processing 237 frames for video: g_br_1_track_092\n",
            "Saved processed CSV: /home/gled/frames/test/g_br_1_track_092_ball.csv\n",
            "Processing video: pobead_4m-2w_1place_00004\n",
            "Processing 206 frames for video: pobead_4m-2w_1place_00004\n",
            "Saved processed CSV: /home/gled/frames/test/pobead_4m-2w_1place_00004_ball.csv\n",
            "Processing video: 4m2w_transmash_20250504_0006\n",
            "Processing 454 frames for video: 4m2w_transmash_20250504_0006\n",
            "Saved processed CSV: /home/gled/frames/test/4m2w_transmash_20250504_0006_ball.csv\n",
            "Processing video: beach_st_lenina_20250622_g1_002\n",
            "Processing 67 frames for video: beach_st_lenina_20250622_g1_002\n",
            "Saved processed CSV: /home/gled/frames/test/beach_st_lenina_20250622_g1_002_ball.csv\n",
            "Processing video: beach_st_lenina_20250622_g1_008\n",
            "Processing 490 frames for video: beach_st_lenina_20250622_g1_008\n",
            "Saved processed CSV: /home/gled/frames/test/beach_st_lenina_20250622_g1_008_ball.csv\n"
          ]
        }
      ]
    }
  ]
}