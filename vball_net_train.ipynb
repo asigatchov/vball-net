{
  "nbformat": 4,
  "nbformat_minor": 0,
  "metadata": {
    "colab": {
      "provenance": [],
      "authorship_tag": "ABX9TyM4jT5q1d635Bm64noDEsln",
      "include_colab_link": true
    },
    "kernelspec": {
      "name": "python3",
      "display_name": "Python 3"
    },
    "language_info": {
      "name": "python"
    }
  },
  "cells": [
    {
      "cell_type": "markdown",
      "metadata": {
        "id": "view-in-github",
        "colab_type": "text"
      },
      "source": [
        "<a href=\"https://colab.research.google.com/github/asigatchov/vball-net/blob/main/vball_net_train.ipynb\" target=\"_parent\"><img src=\"https://colab.research.google.com/assets/colab-badge.svg\" alt=\"Open In Colab\"/></a>"
      ]
    },
    {
      "cell_type": "markdown",
      "source": [
        "[vball-net repo](https://github.com/asigatchov/vball-net). Clone the repository and load the labeled data for model training.\n"
      ],
      "metadata": {
        "id": "5lGWffxo23Df"
      }
    },
    {
      "cell_type": "code",
      "execution_count": 8,
      "metadata": {
        "colab": {
          "base_uri": "https://localhost:8080/"
        },
        "id": "x0dQ5YKYx67r",
        "outputId": "03ff5c6a-a38e-4046-9258-a7764d239d04"
      },
      "outputs": [
        {
          "output_type": "stream",
          "name": "stdout",
          "text": [
            "Cloning into 'vball-net'...\n",
            "remote: Enumerating objects: 208, done.\u001b[K\n",
            "remote: Counting objects: 100% (208/208), done.\u001b[K\n",
            "remote: Compressing objects: 100% (128/128), done.\u001b[K\n",
            "remote: Total 208 (delta 124), reused 148 (delta 75), pack-reused 0 (from 0)\u001b[K\n",
            "Receiving objects: 100% (208/208), 271.73 KiB | 1.16 MiB/s, done.\n",
            "Resolving deltas: 100% (124/124), done.\n"
          ]
        }
      ],
      "source": [
        "!git clone https://github.com/asigatchov/vball-net.git"
      ]
    },
    {
      "cell_type": "markdown",
      "source": [
        "Install uv and dependencies in the project"
      ],
      "metadata": {
        "id": "In6vOOkM32h8"
      }
    },
    {
      "cell_type": "code",
      "source": [
        "%cd /content/vball-net\n",
        "!pip install uv\n",
        "!uv sync  >> /dev/null  2>&1\n"
      ],
      "metadata": {
        "colab": {
          "base_uri": "https://localhost:8080/"
        },
        "id": "xRgQ5pQ_yVIO",
        "outputId": "3c0d5624-1de4-45b8-d16c-3e3eff3bc61c"
      },
      "execution_count": 10,
      "outputs": [
        {
          "output_type": "stream",
          "name": "stdout",
          "text": [
            "/content/vball-net\n",
            "Requirement already satisfied: uv in /usr/local/lib/python3.11/dist-packages (0.8.0)\n"
          ]
        }
      ]
    },
    {
      "cell_type": "markdown",
      "source": [
        "Let's load the labeled data for training - volleyball-orel.ru"
      ],
      "metadata": {
        "id": "IkHSqh7q4k-V"
      }
    },
    {
      "cell_type": "code",
      "source": [
        "DATASET_URL=\"https://volleyball-orel.ru/system/docs/data_20250711_2330.tgz\"\n",
        "DATASET_DIR=\"/content/vball-net/data\"\n",
        "PROJECT_DIR=\"/content/vball-net\"\n",
        "!echo \"Loading...\"\n",
        "!echo \"$DATASET_DIR\"\n",
        "!curl -L \"$DATASET_URL\" -o dataset.tgz\n",
        "!tar -xzf dataset.tgz -C \"$PROJECT_DIR\"\n",
        "#!rm dataset.tgz\n"
      ],
      "metadata": {
        "id": "FkhStRLTyxEp"
      },
      "execution_count": null,
      "outputs": []
    },
    {
      "cell_type": "markdown",
      "source": [
        "\n",
        "Let's prepare the data for training.\n",
        "\n",
        "Video parsing by frames for short clips 512*288\n",
        "\n",
        "csv - files and intersect coordinates for the new size (512*288)\n"
      ],
      "metadata": {
        "id": "fu7gUJ304jqh"
      }
    },
    {
      "cell_type": "code",
      "source": [
        "!uv run src/preprocess.py > /dev/null; echo \"Prepare Done\""
      ],
      "metadata": {
        "id": "nHeM9pZH0VLP"
      },
      "execution_count": null,
      "outputs": []
    },
    {
      "cell_type": "code",
      "source": [
        "!cd vball-net/; uv run src/train_v1.py --grayscale --seq 9  --model_name VballNetV1 --epochs 250 --resume  # --gpu_memory_limit 2600"
      ],
      "metadata": {
        "id": "1cu7duWD5wcT",
        "outputId": "bb2c80fb-189e-4432-dc3d-968db21f8684",
        "colab": {
          "base_uri": "https://localhost:8080/"
        }
      },
      "execution_count": 7,
      "outputs": [
        {
          "output_type": "stream",
          "name": "stdout",
          "text": [
            "/bin/bash: line 1: cd: vball-net/: No such file or directory\n",
            "2025-07-22 04:17:21.173519: E external/local_xla/xla/stream_executor/cuda/cuda_fft.cc:485] Unable to register cuFFT factory: Attempting to register factory for plugin cuFFT when one has already been registered\n",
            "2025-07-22 04:17:21.433101: E external/local_xla/xla/stream_executor/cuda/cuda_dnn.cc:8454] Unable to register cuDNN factory: Attempting to register factory for plugin cuDNN when one has already been registered\n",
            "2025-07-22 04:17:21.504563: E external/local_xla/xla/stream_executor/cuda/cuda_blas.cc:1452] Unable to register cuBLAS factory: Attempting to register factory for plugin cuBLAS when one has already been registered\n",
            "2025-07-22 04:17:21.931734: I tensorflow/core/platform/cpu_feature_guard.cc:210] This TensorFlow binary is optimized to use available CPU instructions in performance-critical operations.\n",
            "To enable the following instructions: AVX2 AVX512F FMA, in other operations, rebuild TensorFlow with the appropriate compiler flags.\n",
            "2025-07-22 04:17:26.604585: W tensorflow/compiler/tf2tensorrt/utils/py_utils.cc:38] TF-TRT Warning: Could not find TensorRT\n",
            "2025-07-22 04:17:33 - INFO - Starting training script with seq=9, grayscale=True, debug=False, resume=True, model_name=VballNetV1, alpha=-1.0 gpu_memory_limit=-1\n",
            "WARNING: All log messages before absl::InitializeLog() is called are written to STDERR\n",
            "I0000 00:00:1753157853.444142   10806 cuda_executor.cc:1015] successful NUMA node read from SysFS had negative value (-1), but there must be at least one NUMA node, so returning NUMA node zero. See more at https://github.com/torvalds/linux/blob/v6.0/Documentation/ABI/testing/sysfs-bus-pci#L344-L355\n",
            "I0000 00:00:1753157853.982469   10806 cuda_executor.cc:1015] successful NUMA node read from SysFS had negative value (-1), but there must be at least one NUMA node, so returning NUMA node zero. See more at https://github.com/torvalds/linux/blob/v6.0/Documentation/ABI/testing/sysfs-bus-pci#L344-L355\n",
            "I0000 00:00:1753157853.982752   10806 cuda_executor.cc:1015] successful NUMA node read from SysFS had negative value (-1), but there must be at least one NUMA node, so returning NUMA node zero. See more at https://github.com/torvalds/linux/blob/v6.0/Documentation/ABI/testing/sysfs-bus-pci#L344-L355\n",
            "Set GPU memory limit to -1 MB\n",
            "2025-07-22 04:17:33 - INFO - Created model save directory: models/VballNetV1_seq9_grayscale\n",
            "2025-07-22 04:17:35 - INFO - Number of training pairs: 22790\n",
            "2025-07-22 04:17:35 - INFO - Number of test pairs: 5840\n",
            "I0000 00:00:1753157855.284289   10806 cuda_executor.cc:1015] successful NUMA node read from SysFS had negative value (-1), but there must be at least one NUMA node, so returning NUMA node zero. See more at https://github.com/torvalds/linux/blob/v6.0/Documentation/ABI/testing/sysfs-bus-pci#L344-L355\n",
            "I0000 00:00:1753157855.284615   10806 cuda_executor.cc:1015] successful NUMA node read from SysFS had negative value (-1), but there must be at least one NUMA node, so returning NUMA node zero. See more at https://github.com/torvalds/linux/blob/v6.0/Documentation/ABI/testing/sysfs-bus-pci#L344-L355\n",
            "I0000 00:00:1753157855.284781   10806 cuda_executor.cc:1015] successful NUMA node read from SysFS had negative value (-1), but there must be at least one NUMA node, so returning NUMA node zero. See more at https://github.com/torvalds/linux/blob/v6.0/Documentation/ABI/testing/sysfs-bus-pci#L344-L355\n",
            "I0000 00:00:1753157855.405366   10806 cuda_executor.cc:1015] successful NUMA node read from SysFS had negative value (-1), but there must be at least one NUMA node, so returning NUMA node zero. See more at https://github.com/torvalds/linux/blob/v6.0/Documentation/ABI/testing/sysfs-bus-pci#L344-L355\n",
            "I0000 00:00:1753157855.405660   10806 cuda_executor.cc:1015] successful NUMA node read from SysFS had negative value (-1), but there must be at least one NUMA node, so returning NUMA node zero. See more at https://github.com/torvalds/linux/blob/v6.0/Documentation/ABI/testing/sysfs-bus-pci#L344-L355\n",
            "2025-07-22 04:17:35.405789: W tensorflow/core/common_runtime/gpu/gpu_bfc_allocator.cc:47] Overriding orig_value setting because the TF_FORCE_GPU_ALLOW_GROWTH environment variable is set. Original config value was 0.\n",
            "I0000 00:00:1753157855.405897   10806 cuda_executor.cc:1015] successful NUMA node read from SysFS had negative value (-1), but there must be at least one NUMA node, so returning NUMA node zero. See more at https://github.com/torvalds/linux/blob/v6.0/Documentation/ABI/testing/sysfs-bus-pci#L344-L355\n",
            "2025-07-22 04:17:35.408029: I tensorflow/core/common_runtime/gpu/gpu_device.cc:2021] Created device /job:localhost/replica:0/task:0/device:GPU:0 with -1 MB memory:  -> device: 0, name: Tesla T4, pci bus id: 0000:00:04.0, compute capability: 7.5\n",
            "2025-07-22 04:17:36 - INFO - Number of training batches: 5698\n",
            "2025-07-22 04:17:36 - INFO - Number of test batches: 1460\n",
            "Creating model VballNetV1 with height=288, width=512, in_dim=9, out_dim=9, seq=9, grayscale=True\n",
            "2025-07-22 04:17:38 - INFO - Model: \"functional\"\n",
            "┏━━━━━━━━━━━━━━━━━━━━━┳━━━━━━━━━━━━━━━━━━━┳━━━━━━━━━━━━┳━━━━━━━━━━━━━━━━━━━┓\n",
            "┃ Layer (type)        ┃ Output Shape      ┃    Param # ┃ Connected to      ┃\n",
            "┡━━━━━━━━━━━━━━━━━━━━━╇━━━━━━━━━━━━━━━━━━━╇━━━━━━━━━━━━╇━━━━━━━━━━━━━━━━━━━┩\n",
            "│ input_layer         │ (None, 9, 288,    │          0 │ -                 │\n",
            "│ (InputLayer)        │ 512)              │            │                   │\n",
            "├─────────────────────┼───────────────────┼────────────┼───────────────────┤\n",
            "│ separable_conv2d    │ (None, 32, 288,   │        401 │ input_layer[0][0] │\n",
            "│ (SeparableConv2D)   │ 512)              │            │                   │\n",
            "├─────────────────────┼───────────────────┼────────────┼───────────────────┤\n",
            "│ activation          │ (None, 32, 288,   │          0 │ separable_conv2d… │\n",
            "│ (Activation)        │ 512)              │            │                   │\n",
            "├─────────────────────┼───────────────────┼────────────┼───────────────────┤\n",
            "│ batch_normalization │ (None, 32, 288,   │      2,048 │ activation[0][0]  │\n",
            "│ (BatchNormalizatio… │ 512)              │            │                   │\n",
            "├─────────────────────┼───────────────────┼────────────┼───────────────────┤\n",
            "│ separable_conv2d_1  │ (None, 32, 288,   │      1,344 │ batch_normalizat… │\n",
            "│ (SeparableConv2D)   │ 512)              │            │                   │\n",
            "├─────────────────────┼───────────────────┼────────────┼───────────────────┤\n",
            "│ activation_1        │ (None, 32, 288,   │          0 │ separable_conv2d… │\n",
            "│ (Activation)        │ 512)              │            │                   │\n",
            "├─────────────────────┼───────────────────┼────────────┼───────────────────┤\n",
            "│ batch_normalizatio… │ (None, 32, 288,   │      2,048 │ activation_1[0][… │\n",
            "│ (BatchNormalizatio… │ 512)              │            │                   │\n",
            "├─────────────────────┼───────────────────┼────────────┼───────────────────┤\n",
            "│ max_pooling2d       │ (None, 32, 144,   │          0 │ batch_normalizat… │\n",
            "│ (MaxPooling2D)      │ 256)              │            │                   │\n",
            "├─────────────────────┼───────────────────┼────────────┼───────────────────┤\n",
            "│ separable_conv2d_2  │ (None, 64, 144,   │      2,400 │ max_pooling2d[0]… │\n",
            "│ (SeparableConv2D)   │ 256)              │            │                   │\n",
            "├─────────────────────┼───────────────────┼────────────┼───────────────────┤\n",
            "│ activation_2        │ (None, 64, 144,   │          0 │ separable_conv2d… │\n",
            "│ (Activation)        │ 256)              │            │                   │\n",
            "├─────────────────────┼───────────────────┼────────────┼───────────────────┤\n",
            "│ batch_normalizatio… │ (None, 64, 144,   │      1,024 │ activation_2[0][… │\n",
            "│ (BatchNormalizatio… │ 256)              │            │                   │\n",
            "├─────────────────────┼───────────────────┼────────────┼───────────────────┤\n",
            "│ max_pooling2d_1     │ (None, 64, 72,    │          0 │ batch_normalizat… │\n",
            "│ (MaxPooling2D)      │ 128)              │            │                   │\n",
            "├─────────────────────┼───────────────────┼────────────┼───────────────────┤\n",
            "│ separable_conv2d_3  │ (None, 128, 72,   │      8,896 │ max_pooling2d_1[… │\n",
            "│ (SeparableConv2D)   │ 128)              │            │                   │\n",
            "├─────────────────────┼───────────────────┼────────────┼───────────────────┤\n",
            "│ activation_3        │ (None, 128, 72,   │          0 │ separable_conv2d… │\n",
            "│ (Activation)        │ 128)              │            │                   │\n",
            "├─────────────────────┼───────────────────┼────────────┼───────────────────┤\n",
            "│ batch_normalizatio… │ (None, 128, 72,   │        512 │ activation_3[0][… │\n",
            "│ (BatchNormalizatio… │ 128)              │            │                   │\n",
            "├─────────────────────┼───────────────────┼────────────┼───────────────────┤\n",
            "│ up_sampling2d       │ (None, 128, 144,  │          0 │ batch_normalizat… │\n",
            "│ (UpSampling2D)      │ 256)              │            │                   │\n",
            "├─────────────────────┼───────────────────┼────────────┼───────────────────┤\n",
            "│ concatenate         │ (None, 192, 144,  │          0 │ up_sampling2d[0]… │\n",
            "│ (Concatenate)       │ 256)              │            │ batch_normalizat… │\n",
            "├─────────────────────┼───────────────────┼────────────┼───────────────────┤\n",
            "│ separable_conv2d_4  │ (None, 64, 144,   │     14,080 │ concatenate[0][0] │\n",
            "│ (SeparableConv2D)   │ 256)              │            │                   │\n",
            "├─────────────────────┼───────────────────┼────────────┼───────────────────┤\n",
            "│ activation_4        │ (None, 64, 144,   │          0 │ separable_conv2d… │\n",
            "│ (Activation)        │ 256)              │            │                   │\n",
            "├─────────────────────┼───────────────────┼────────────┼───────────────────┤\n",
            "│ batch_normalizatio… │ (None, 64, 144,   │      1,024 │ activation_4[0][… │\n",
            "│ (BatchNormalizatio… │ 256)              │            │                   │\n",
            "├─────────────────────┼───────────────────┼────────────┼───────────────────┤\n",
            "│ up_sampling2d_1     │ (None, 64, 288,   │          0 │ batch_normalizat… │\n",
            "│ (UpSampling2D)      │ 512)              │            │                   │\n",
            "├─────────────────────┼───────────────────┼────────────┼───────────────────┤\n",
            "│ concatenate_1       │ (None, 96, 288,   │          0 │ up_sampling2d_1[… │\n",
            "│ (Concatenate)       │ 512)              │            │ batch_normalizat… │\n",
            "├─────────────────────┼───────────────────┼────────────┼───────────────────┤\n",
            "│ separable_conv2d_5  │ (None, 32, 288,   │      3,968 │ concatenate_1[0]… │\n",
            "│ (SeparableConv2D)   │ 512)              │            │                   │\n",
            "├─────────────────────┼───────────────────┼────────────┼───────────────────┤\n",
            "│ activation_5        │ (None, 32, 288,   │          0 │ separable_conv2d… │\n",
            "│ (Activation)        │ 512)              │            │                   │\n",
            "├─────────────────────┼───────────────────┼────────────┼───────────────────┤\n",
            "│ batch_normalizatio… │ (None, 32, 288,   │      2,048 │ activation_5[0][… │\n",
            "│ (BatchNormalizatio… │ 512)              │            │                   │\n",
            "├─────────────────────┼───────────────────┼────────────┼───────────────────┤\n",
            "│ reshape (Reshape)   │ (None, 9, 1, 288, │          0 │ input_layer[0][0] │\n",
            "│                     │ 512)              │            │                   │\n",
            "├─────────────────────┼───────────────────┼────────────┼───────────────────┤\n",
            "│ conv2d (Conv2D)     │ (None, 9, 288,    │        297 │ batch_normalizat… │\n",
            "│                     │ 512)              │            │                   │\n",
            "├─────────────────────┼───────────────────┼────────────┼───────────────────┤\n",
            "│ motion_prompt_layer │ [(None, 9, 288,   │          2 │ reshape[0][0]     │\n",
            "│ (MotionPromptLayer) │ 512), ()]         │            │                   │\n",
            "├─────────────────────┼───────────────────┼────────────┼───────────────────┤\n",
            "│ fusion_layer_type_a │ (None, 9, 288,    │          0 │ conv2d[0][0],     │\n",
            "│ (FusionLayerTypeA)  │ 512)              │            │ motion_prompt_la… │\n",
            "├─────────────────────┼───────────────────┼────────────┼───────────────────┤\n",
            "│ activation_6        │ (None, 9, 288,    │          0 │ fusion_layer_typ… │\n",
            "│ (Activation)        │ 512)              │            │                   │\n",
            "└─────────────────────┴───────────────────┴────────────┴───────────────────┘\n",
            " Total params: 40,092 (156.61 KB)\n",
            " Trainable params: 35,740 (139.61 KB)\n",
            " Non-trainable params: 4,352 (17.00 KB)\n",
            "\n",
            "2025-07-22 04:17:38 - WARNING - No checkpoints found for VballNetV1_seq9_grayscale in models/VballNetV1_seq9_grayscale, starting training from scratch.\n",
            "2025-07-22 04:17:38 - INFO - Model compiled with optimizer=Adam(lr_schedule), loss=custom_loss, metrics=['mae']\n",
            "2025-07-22 04:17:38 - INFO - Callbacks configured: ModelCheckpoint, TensorBoard, EarlyStopping, OutcomeMetricsCallback, LearningRateLogger, VisualizationCallback\n",
            "2025-07-22 04:17:39.991157: W tensorflow/core/kernels/data/prefetch_autotuner.cc:52] Prefetch autotuner tried to allocate 67108864 bytes after encountering the first element of size 67108864 bytes.This already causes the autotune ram budget to be exceeded. To stay within the ram budget, either increase the ram budget or reduce element size\n",
            "2025-07-22 04:17:39 - INFO - Frames shape: (4, 9, 288, 512)\n",
            "2025-07-22 04:17:39 - INFO - Heatmaps shape: (4, 9, 288, 512)\n",
            "2025-07-22 04:17:40.296892: I tensorflow/core/framework/local_rendezvous.cc:404] Local rendezvous is aborting with status: OUT_OF_RANGE: End of sequence\n",
            "2025-07-22 04:17:40 - INFO - Starting training...\n",
            "Epoch 1/250\n",
            "WARNING: All log messages before absl::InitializeLog() is called are written to STDERR\n",
            "I0000 00:00:1753157867.317150   10877 service.cc:146] XLA service 0x7eb5b4023400 initialized for platform CUDA (this does not guarantee that XLA will be used). Devices:\n",
            "I0000 00:00:1753157867.317223   10877 service.cc:154]   StreamExecutor device (0): Tesla T4, Compute Capability 7.5\n",
            "2025-07-22 04:17:47.747643: I tensorflow/compiler/mlir/tensorflow/utils/dump_mlir_util.cc:268] disabling MLIR crash reproducer, set env var `MLIR_CRASH_REPRODUCER_DIRECTORY` to enable.\n",
            "2025-07-22 04:17:49.553405: I external/local_xla/xla/stream_executor/cuda/cuda_dnn.cc:531] Loaded cuDNN version 8907\n",
            "E0000 00:00:1753157871.193276   10877 gpu_timer.cc:183] Delay kernel timed out: measured time has sub-optimal accuracy. There may be a missing warmup execution, please investigate in Nsight Systems.\n",
            "E0000 00:00:1753157871.346799   10877 gpu_timer.cc:183] Delay kernel timed out: measured time has sub-optimal accuracy. There may be a missing warmup execution, please investigate in Nsight Systems.\n",
            "E0000 00:00:1753157872.324147   10877 gpu_timer.cc:183] Delay kernel timed out: measured time has sub-optimal accuracy. There may be a missing warmup execution, please investigate in Nsight Systems.\n",
            "E0000 00:00:1753157872.549283   10877 gpu_timer.cc:183] Delay kernel timed out: measured time has sub-optimal accuracy. There may be a missing warmup execution, please investigate in Nsight Systems.\n",
            "E0000 00:00:1753157873.550645   10877 gpu_timer.cc:183] Delay kernel timed out: measured time has sub-optimal accuracy. There may be a missing warmup execution, please investigate in Nsight Systems.\n",
            "E0000 00:00:1753157873.700767   10877 gpu_timer.cc:183] Delay kernel timed out: measured time has sub-optimal accuracy. There may be a missing warmup execution, please investigate in Nsight Systems.\n",
            "2025-07-22 04:18:09.337146: I external/local_xla/xla/stream_executor/cuda/cuda_asm_compiler.cc:393] ptxas warning : Registers are spilled to local memory in function 'loop_multiply_fusion_5', 100 bytes spill stores, 100 bytes spill loads\n",
            "\n",
            "I0000 00:00:1753157889.385726   10877 device_compiler.h:188] Compiled cluster using XLA!  This line is logged at most once for the lifetime of the process.\n",
            "\u001b[1m 953/5698\u001b[0m \u001b[32m━━━\u001b[0m\u001b[37m━━━━━━━━━━━━━━━━━\u001b[0m \u001b[1m35:02\u001b[0m 443ms/step - loss: 0.0177 - mae: 0.1461Traceback (most recent call last):\n",
            "  File \"/content/vball-net/src/train_v1.py\", line 487, in <module>\n",
            "    main()\n",
            "  File \"/content/vball-net/src/train_v1.py\", line 476, in main\n",
            "    model.fit(\n",
            "  File \"/content/vball-net/.venv/lib/python3.11/site-packages/keras/src/utils/traceback_utils.py\", line 117, in error_handler\n",
            "    return fn(*args, **kwargs)\n",
            "           ^^^^^^^^^^^^^^^^^^^\n",
            "  File \"/content/vball-net/.venv/lib/python3.11/site-packages/keras/src/backend/tensorflow/trainer.py\", line 320, in fit\n",
            "    logs = self.train_function(iterator)\n",
            "           ^^^^^^^^^^^^^^^^^^^^^^^^^^^^^\n",
            "  File \"/content/vball-net/.venv/lib/python3.11/site-packages/tensorflow/python/util/traceback_utils.py\", line 150, in error_handler\n",
            "    return fn(*args, **kwargs)\n",
            "           ^^^^^^^^^^^^^^^^^^^\n",
            "  File \"/content/vball-net/.venv/lib/python3.11/site-packages/tensorflow/python/eager/polymorphic_function/polymorphic_function.py\", line 833, in __call__\n",
            "    result = self._call(*args, **kwds)\n",
            "             ^^^^^^^^^^^^^^^^^^^^^^^^^\n",
            "  File \"/content/vball-net/.venv/lib/python3.11/site-packages/tensorflow/python/eager/polymorphic_function/polymorphic_function.py\", line 878, in _call\n",
            "    results = tracing_compilation.call_function(\n",
            "              ^^^^^^^^^^^^^^^^^^^^^^^^^^^^^^^^^^\n",
            "  File \"/content/vball-net/.venv/lib/python3.11/site-packages/tensorflow/python/eager/polymorphic_function/tracing_compilation.py\", line 139, in call_function\n",
            "    return function._call_flat(  # pylint: disable=protected-access\n",
            "           ^^^^^^^^^^^^^^^^^^^^^^^^^^^^^^^^^^^^^^^^^^^^^^^^^^^^^^^^\n",
            "  File \"/content/vball-net/.venv/lib/python3.11/site-packages/tensorflow/python/eager/polymorphic_function/concrete_function.py\", line 1322, in _call_flat\n",
            "    return self._inference_function.call_preflattened(args)\n",
            "           ^^^^^^^^^^^^^^^^^^^^^^^^^^^^^^^^^^^^^^^^^^^^^^^^\n",
            "  File \"/content/vball-net/.venv/lib/python3.11/site-packages/tensorflow/python/eager/polymorphic_function/atomic_function.py\", line 216, in call_preflattened\n",
            "    flat_outputs = self.call_flat(*args)\n",
            "                   ^^^^^^^^^^^^^^^^^^^^^\n",
            "  File \"/content/vball-net/.venv/lib/python3.11/site-packages/tensorflow/python/eager/polymorphic_function/atomic_function.py\", line 251, in call_flat\n",
            "    outputs = self._bound_context.call_function(\n",
            "              ^^^^^^^^^^^^^^^^^^^^^^^^^^^^^^^^^^\n",
            "  File \"/content/vball-net/.venv/lib/python3.11/site-packages/tensorflow/python/eager/context.py\", line 1552, in call_function\n",
            "    outputs = execute.execute(\n",
            "              ^^^^^^^^^^^^^^^^\n",
            "  File \"/content/vball-net/.venv/lib/python3.11/site-packages/tensorflow/python/eager/execute.py\", line 53, in quick_execute\n",
            "    tensors = pywrap_tfe.TFE_Py_Execute(ctx._handle, device_name, op_name,\n",
            "              ^^^^^^^^^^^^^^^^^^^^^^^^^^^^^^^^^^^^^^^^^^^^^^^^^^^^^^^^^^^^\n",
            "KeyboardInterrupt\n"
          ]
        }
      ]
    }
  ]
}